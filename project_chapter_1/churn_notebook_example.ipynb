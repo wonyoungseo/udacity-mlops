{
 "cells": [
  {
   "cell_type": "code",
   "execution_count": 1,
   "id": "4c9bbc3e",
   "metadata": {},
   "outputs": [],
   "source": [
    "from churn_library import *"
   ]
  },
  {
   "cell_type": "code",
   "execution_count": 2,
   "id": "4653c589",
   "metadata": {},
   "outputs": [],
   "source": [
    "constant = read_json('constant.json')\n",
    "df = import_data(constant['file_path']['dataset'])"
   ]
  },
  {
   "cell_type": "code",
   "execution_count": 3,
   "id": "03ba26a6",
   "metadata": {},
   "outputs": [
    {
     "name": "stdout",
     "output_type": "stream",
     "text": [
      "Data Shape:\n",
      "<class 'pandas.core.frame.DataFrame'>\n",
      "RangeIndex: 10127 entries, 0 to 10126\n",
      "Data columns (total 22 columns):\n",
      " #   Column                    Non-Null Count  Dtype  \n",
      "---  ------                    --------------  -----  \n",
      " 0   Unnamed: 0                10127 non-null  int64  \n",
      " 1   CLIENTNUM                 10127 non-null  int64  \n",
      " 2   Attrition_Flag            10127 non-null  object \n",
      " 3   Customer_Age              10127 non-null  int64  \n",
      " 4   Gender                    10127 non-null  object \n",
      " 5   Dependent_count           10127 non-null  int64  \n",
      " 6   Education_Level           10127 non-null  object \n",
      " 7   Marital_Status            10127 non-null  object \n",
      " 8   Income_Category           10127 non-null  object \n",
      " 9   Card_Category             10127 non-null  object \n",
      " 10  Months_on_book            10127 non-null  int64  \n",
      " 11  Total_Relationship_Count  10127 non-null  int64  \n",
      " 12  Months_Inactive_12_mon    10127 non-null  int64  \n",
      " 13  Contacts_Count_12_mon     10127 non-null  int64  \n",
      " 14  Credit_Limit              10127 non-null  float64\n",
      " 15  Total_Revolving_Bal       10127 non-null  int64  \n",
      " 16  Avg_Open_To_Buy           10127 non-null  float64\n",
      " 17  Total_Amt_Chng_Q4_Q1      10127 non-null  float64\n",
      " 18  Total_Trans_Amt           10127 non-null  int64  \n",
      " 19  Total_Trans_Ct            10127 non-null  int64  \n",
      " 20  Total_Ct_Chng_Q4_Q1       10127 non-null  float64\n",
      " 21  Avg_Utilization_Ratio     10127 non-null  float64\n",
      "dtypes: float64(5), int64(11), object(6)\n",
      "memory usage: 1.7+ MB\n",
      "\n",
      "\n",
      "Statistics per column:\n",
      "         Unnamed: 0     CLIENTNUM  Customer_Age  Dependent_count  \\\n",
      "count  10127.000000  1.012700e+04  10127.000000     10127.000000   \n",
      "mean    5063.000000  7.391776e+08     46.325960         2.346203   \n",
      "std     2923.557422  3.690378e+07      8.016814         1.298908   \n",
      "min        0.000000  7.080821e+08     26.000000         0.000000   \n",
      "25%     2531.500000  7.130368e+08     41.000000         1.000000   \n",
      "50%     5063.000000  7.179264e+08     46.000000         2.000000   \n",
      "75%     7594.500000  7.731435e+08     52.000000         3.000000   \n",
      "max    10126.000000  8.283431e+08     73.000000         5.000000   \n",
      "\n",
      "       Months_on_book  Total_Relationship_Count  Months_Inactive_12_mon  \\\n",
      "count    10127.000000              10127.000000            10127.000000   \n",
      "mean        35.928409                  3.812580                2.341167   \n",
      "std          7.986416                  1.554408                1.010622   \n",
      "min         13.000000                  1.000000                0.000000   \n",
      "25%         31.000000                  3.000000                2.000000   \n",
      "50%         36.000000                  4.000000                2.000000   \n",
      "75%         40.000000                  5.000000                3.000000   \n",
      "max         56.000000                  6.000000                6.000000   \n",
      "\n",
      "       Contacts_Count_12_mon  Credit_Limit  Total_Revolving_Bal  \\\n",
      "count           10127.000000  10127.000000         10127.000000   \n",
      "mean                2.455317   8631.953698          1162.814061   \n",
      "std                 1.106225   9088.776650           814.987335   \n",
      "min                 0.000000   1438.300000             0.000000   \n",
      "25%                 2.000000   2555.000000           359.000000   \n",
      "50%                 2.000000   4549.000000          1276.000000   \n",
      "75%                 3.000000  11067.500000          1784.000000   \n",
      "max                 6.000000  34516.000000          2517.000000   \n",
      "\n",
      "       Avg_Open_To_Buy  Total_Amt_Chng_Q4_Q1  Total_Trans_Amt  Total_Trans_Ct  \\\n",
      "count     10127.000000          10127.000000     10127.000000    10127.000000   \n",
      "mean       7469.139637              0.759941      4404.086304       64.858695   \n",
      "std        9090.685324              0.219207      3397.129254       23.472570   \n",
      "min           3.000000              0.000000       510.000000       10.000000   \n",
      "25%        1324.500000              0.631000      2155.500000       45.000000   \n",
      "50%        3474.000000              0.736000      3899.000000       67.000000   \n",
      "75%        9859.000000              0.859000      4741.000000       81.000000   \n",
      "max       34516.000000              3.397000     18484.000000      139.000000   \n",
      "\n",
      "       Total_Ct_Chng_Q4_Q1  Avg_Utilization_Ratio  \n",
      "count         10127.000000           10127.000000  \n",
      "mean              0.712222               0.274894  \n",
      "std               0.238086               0.275691  \n",
      "min               0.000000               0.000000  \n",
      "25%               0.582000               0.023000  \n",
      "50%               0.702000               0.176000  \n",
      "75%               0.818000               0.503000  \n",
      "max               3.714000               0.999000  \n"
     ]
    }
   ],
   "source": [
    "EDA_Helper.return_data_summary(df)"
   ]
  },
  {
   "cell_type": "code",
   "execution_count": 4,
   "id": "9f216b11",
   "metadata": {},
   "outputs": [],
   "source": [
    "df = encode_churn_target_var(df, 'Attrition_Flag', constant['target_var'])\n",
    "cat_columns = constant['categorical_cols']\n",
    "df = encoder_helper(df, cat_columns, 'Churn')"
   ]
  },
  {
   "cell_type": "code",
   "execution_count": 5,
   "id": "a388378d",
   "metadata": {},
   "outputs": [],
   "source": [
    "keep_cols = constant['feature_var']\n",
    "target_col = constant['target_var']\n",
    "X_train, X_test, y_train, y_test = perform_feature_engineering(df, \n",
    "                                                               X_cols=keep_cols, \n",
    "                                                               y_col=target_col)"
   ]
  },
  {
   "cell_type": "code",
   "execution_count": 6,
   "id": "93f22f98",
   "metadata": {},
   "outputs": [],
   "source": [
    "model_wrapper = ChurnModel()"
   ]
  },
  {
   "cell_type": "code",
   "execution_count": 8,
   "id": "7a220464",
   "metadata": {
    "scrolled": false
   },
   "outputs": [
    {
     "name": "stderr",
     "output_type": "stream",
     "text": [
      "root - INFO - Random Forest model object initiated\n",
      "root - INFO - Model training complete.\n",
      "root - INFO - Plot saved './image/Random Forest_classification_report.png'\n",
      "root - INFO - Classification Report saved.\n",
      "root - INFO - Plot saved './image/Random Forest_roc_curve.png'\n",
      "root - INFO - AUC-ROC Plot saved.\n",
      "root - INFO - Plot saved './image/Random Forest_shap.png'\n",
      "root - INFO - SHAP Plot saved.\n",
      "root - INFO - Plot saved './image/Random Forest_feature_importance.png'\n",
      "root - INFO - Feature Importance Plot saved.\n",
      "root - INFO - Model successfully stored in './models/rfc_model.pkl'\n"
     ]
    },
    {
     "data": {
      "text/plain": [
       "<Figure size 504x504 with 0 Axes>"
      ]
     },
     "metadata": {},
     "output_type": "display_data"
    }
   ],
   "source": [
    "model_type = 'rfc'\n",
    "param_grid = constant['param_grid_search']\n",
    "cv_num = constant['num_cross_validation']\n",
    "\n",
    "# model_wrapper.train('rfc', X_train, X_test, y_train, y_test, \n",
    "#                     cv_perform=True, cv_param_grid=param_grid, cv_num=cv_num)\n",
    "\n",
    "model_wrapper.train('rfc', X_train, X_test, y_train, y_test, \n",
    "                    cv_perform=False)"
   ]
  },
  {
   "cell_type": "code",
   "execution_count": 9,
   "id": "d5ee77a7",
   "metadata": {},
   "outputs": [],
   "source": [
    "model = model_wrapper.load_model('./models/{}_model.pkl'.format(model_type))"
   ]
  },
  {
   "cell_type": "code",
   "execution_count": 10,
   "id": "2d11d13a",
   "metadata": {},
   "outputs": [
    {
     "data": {
      "text/plain": [
       "RandomForestClassifier(n_estimators=42)"
      ]
     },
     "execution_count": 10,
     "metadata": {},
     "output_type": "execute_result"
    }
   ],
   "source": [
    "model"
   ]
  },
  {
   "cell_type": "code",
   "execution_count": null,
   "id": "b0f24728",
   "metadata": {},
   "outputs": [],
   "source": []
  }
 ],
 "metadata": {
  "kernelspec": {
   "display_name": "Python 3 (ipykernel)",
   "language": "python",
   "name": "python3"
  },
  "language_info": {
   "codemirror_mode": {
    "name": "ipython",
    "version": 3
   },
   "file_extension": ".py",
   "mimetype": "text/x-python",
   "name": "python",
   "nbconvert_exporter": "python",
   "pygments_lexer": "ipython3",
   "version": "3.8.6"
  }
 },
 "nbformat": 4,
 "nbformat_minor": 5
}
